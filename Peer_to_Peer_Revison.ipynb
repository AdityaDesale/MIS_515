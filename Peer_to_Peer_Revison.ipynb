{
  "cells": [
    {
      "cell_type": "markdown",
      "metadata": {
        "id": "view-in-github",
        "colab_type": "text"
      },
      "source": [
        "<a href=\"https://colab.research.google.com/github/AdityaDesale/MIS_515/blob/main/Peer_to_Peer_Revison.ipynb\" target=\"_parent\"><img src=\"https://colab.research.google.com/assets/colab-badge.svg\" alt=\"Open In Colab\"/></a>"
      ]
    },
    {
      "cell_type": "code",
      "execution_count": null,
      "id": "d5450e84",
      "metadata": {
        "id": "d5450e84"
      },
      "outputs": [],
      "source": [
        "import pandas as pd\n",
        "import numpy as np\n",
        "import matplotlib.pyplot as plt"
      ]
    },
    {
      "cell_type": "code",
      "execution_count": null,
      "id": "277e3de4",
      "metadata": {
        "id": "277e3de4"
      },
      "outputs": [],
      "source": [
        "df=pd.read_csv('credit1.csv')"
      ]
    },
    {
      "cell_type": "code",
      "execution_count": null,
      "id": "5ff12154",
      "metadata": {
        "id": "5ff12154",
        "outputId": "22384dee-f1ad-4a0a-a29b-595a861dbde0"
      },
      "outputs": [
        {
          "data": {
            "text/html": [
              "<div>\n",
              "<style scoped>\n",
              "    .dataframe tbody tr th:only-of-type {\n",
              "        vertical-align: middle;\n",
              "    }\n",
              "\n",
              "    .dataframe tbody tr th {\n",
              "        vertical-align: top;\n",
              "    }\n",
              "\n",
              "    .dataframe thead th {\n",
              "        text-align: right;\n",
              "    }\n",
              "</style>\n",
              "<table border=\"1\" class=\"dataframe\">\n",
              "  <thead>\n",
              "    <tr style=\"text-align: right;\">\n",
              "      <th></th>\n",
              "      <th>checking_balance</th>\n",
              "      <th>months_loan_duration</th>\n",
              "      <th>credit_history</th>\n",
              "      <th>purpose</th>\n",
              "      <th>amount</th>\n",
              "      <th>savings_balance</th>\n",
              "      <th>employment_length</th>\n",
              "      <th>installment_rate</th>\n",
              "      <th>personal_status</th>\n",
              "      <th>other_debtors</th>\n",
              "      <th>...</th>\n",
              "      <th>property</th>\n",
              "      <th>age</th>\n",
              "      <th>installment_plan</th>\n",
              "      <th>housing</th>\n",
              "      <th>existing_credits</th>\n",
              "      <th>default</th>\n",
              "      <th>dependents</th>\n",
              "      <th>telephone</th>\n",
              "      <th>foreign_worker</th>\n",
              "      <th>job</th>\n",
              "    </tr>\n",
              "  </thead>\n",
              "  <tbody>\n",
              "    <tr>\n",
              "      <th>0</th>\n",
              "      <td>&lt; 0 DM</td>\n",
              "      <td>6</td>\n",
              "      <td>critical</td>\n",
              "      <td>radio/tv</td>\n",
              "      <td>1169</td>\n",
              "      <td>unknown</td>\n",
              "      <td>&gt; 7 yrs</td>\n",
              "      <td>4</td>\n",
              "      <td>single male</td>\n",
              "      <td>none</td>\n",
              "      <td>...</td>\n",
              "      <td>real estate</td>\n",
              "      <td>67</td>\n",
              "      <td>none</td>\n",
              "      <td>own</td>\n",
              "      <td>2</td>\n",
              "      <td>1</td>\n",
              "      <td>1</td>\n",
              "      <td>yes</td>\n",
              "      <td>yes</td>\n",
              "      <td>skilled employee</td>\n",
              "    </tr>\n",
              "    <tr>\n",
              "      <th>1</th>\n",
              "      <td>1 - 200 DM</td>\n",
              "      <td>48</td>\n",
              "      <td>repaid</td>\n",
              "      <td>radio/tv</td>\n",
              "      <td>5951</td>\n",
              "      <td>&lt; 100 DM</td>\n",
              "      <td>1 - 4 yrs</td>\n",
              "      <td>2</td>\n",
              "      <td>female</td>\n",
              "      <td>none</td>\n",
              "      <td>...</td>\n",
              "      <td>real estate</td>\n",
              "      <td>22</td>\n",
              "      <td>none</td>\n",
              "      <td>own</td>\n",
              "      <td>1</td>\n",
              "      <td>2</td>\n",
              "      <td>1</td>\n",
              "      <td>none</td>\n",
              "      <td>yes</td>\n",
              "      <td>skilled employee</td>\n",
              "    </tr>\n",
              "    <tr>\n",
              "      <th>2</th>\n",
              "      <td>unknown</td>\n",
              "      <td>12</td>\n",
              "      <td>critical</td>\n",
              "      <td>education</td>\n",
              "      <td>2096</td>\n",
              "      <td>&lt; 100 DM</td>\n",
              "      <td>4 - 7 yrs</td>\n",
              "      <td>2</td>\n",
              "      <td>single male</td>\n",
              "      <td>none</td>\n",
              "      <td>...</td>\n",
              "      <td>real estate</td>\n",
              "      <td>49</td>\n",
              "      <td>none</td>\n",
              "      <td>own</td>\n",
              "      <td>1</td>\n",
              "      <td>1</td>\n",
              "      <td>2</td>\n",
              "      <td>none</td>\n",
              "      <td>yes</td>\n",
              "      <td>unskilled resident</td>\n",
              "    </tr>\n",
              "    <tr>\n",
              "      <th>3</th>\n",
              "      <td>&lt; 0 DM</td>\n",
              "      <td>42</td>\n",
              "      <td>repaid</td>\n",
              "      <td>furniture</td>\n",
              "      <td>7882</td>\n",
              "      <td>&lt; 100 DM</td>\n",
              "      <td>4 - 7 yrs</td>\n",
              "      <td>2</td>\n",
              "      <td>single male</td>\n",
              "      <td>guarantor</td>\n",
              "      <td>...</td>\n",
              "      <td>building society savings</td>\n",
              "      <td>45</td>\n",
              "      <td>none</td>\n",
              "      <td>for free</td>\n",
              "      <td>1</td>\n",
              "      <td>1</td>\n",
              "      <td>2</td>\n",
              "      <td>none</td>\n",
              "      <td>yes</td>\n",
              "      <td>skilled employee</td>\n",
              "    </tr>\n",
              "    <tr>\n",
              "      <th>4</th>\n",
              "      <td>&lt; 0 DM</td>\n",
              "      <td>24</td>\n",
              "      <td>delayed</td>\n",
              "      <td>car (new)</td>\n",
              "      <td>4870</td>\n",
              "      <td>&lt; 100 DM</td>\n",
              "      <td>1 - 4 yrs</td>\n",
              "      <td>3</td>\n",
              "      <td>single male</td>\n",
              "      <td>none</td>\n",
              "      <td>...</td>\n",
              "      <td>unknown/none</td>\n",
              "      <td>53</td>\n",
              "      <td>none</td>\n",
              "      <td>for free</td>\n",
              "      <td>2</td>\n",
              "      <td>2</td>\n",
              "      <td>2</td>\n",
              "      <td>none</td>\n",
              "      <td>yes</td>\n",
              "      <td>skilled employee</td>\n",
              "    </tr>\n",
              "  </tbody>\n",
              "</table>\n",
              "<p>5 rows × 21 columns</p>\n",
              "</div>"
            ],
            "text/plain": [
              "  checking_balance  months_loan_duration credit_history    purpose  amount  \\\n",
              "0           < 0 DM                     6       critical   radio/tv    1169   \n",
              "1       1 - 200 DM                    48         repaid   radio/tv    5951   \n",
              "2          unknown                    12       critical  education    2096   \n",
              "3           < 0 DM                    42         repaid  furniture    7882   \n",
              "4           < 0 DM                    24        delayed  car (new)    4870   \n",
              "\n",
              "  savings_balance employment_length  installment_rate personal_status  \\\n",
              "0         unknown           > 7 yrs                 4     single male   \n",
              "1        < 100 DM         1 - 4 yrs                 2          female   \n",
              "2        < 100 DM         4 - 7 yrs                 2     single male   \n",
              "3        < 100 DM         4 - 7 yrs                 2     single male   \n",
              "4        < 100 DM         1 - 4 yrs                 3     single male   \n",
              "\n",
              "  other_debtors  ...                  property age  installment_plan  \\\n",
              "0          none  ...               real estate  67              none   \n",
              "1          none  ...               real estate  22              none   \n",
              "2          none  ...               real estate  49              none   \n",
              "3     guarantor  ...  building society savings  45              none   \n",
              "4          none  ...              unknown/none  53              none   \n",
              "\n",
              "    housing existing_credits  default  dependents  telephone foreign_worker  \\\n",
              "0       own                2        1           1        yes            yes   \n",
              "1       own                1        2           1       none            yes   \n",
              "2       own                1        1           2       none            yes   \n",
              "3  for free                1        1           2       none            yes   \n",
              "4  for free                2        2           2       none            yes   \n",
              "\n",
              "                  job  \n",
              "0    skilled employee  \n",
              "1    skilled employee  \n",
              "2  unskilled resident  \n",
              "3    skilled employee  \n",
              "4    skilled employee  \n",
              "\n",
              "[5 rows x 21 columns]"
            ]
          },
          "execution_count": 4,
          "metadata": {},
          "output_type": "execute_result"
        }
      ],
      "source": [
        "df.head()"
      ]
    },
    {
      "cell_type": "code",
      "execution_count": null,
      "id": "9d84b31c",
      "metadata": {
        "id": "9d84b31c",
        "outputId": "12c56241-6e32-4efe-94db-1f9003406ad5"
      },
      "outputs": [
        {
          "data": {
            "text/plain": [
              "Index(['checking_balance', 'months_loan_duration', 'credit_history', 'purpose',\n",
              "       'amount', 'savings_balance', 'employment_length', 'installment_rate',\n",
              "       'personal_status', 'other_debtors', 'residence_history', 'property',\n",
              "       'age', 'installment_plan', 'housing', 'existing_credits', 'default',\n",
              "       'dependents', 'telephone', 'foreign_worker', 'job'],\n",
              "      dtype='object')"
            ]
          },
          "execution_count": 5,
          "metadata": {},
          "output_type": "execute_result"
        }
      ],
      "source": [
        "df.columns"
      ]
    },
    {
      "cell_type": "code",
      "execution_count": null,
      "id": "e1be6a06",
      "metadata": {
        "id": "e1be6a06",
        "outputId": "5930cba9-60ef-4cf9-e285-17709ae214b6"
      },
      "outputs": [
        {
          "name": "stdout",
          "output_type": "stream",
          "text": [
            "<class 'pandas.core.frame.DataFrame'>\n",
            "RangeIndex: 1000 entries, 0 to 999\n",
            "Data columns (total 21 columns):\n",
            " #   Column                Non-Null Count  Dtype \n",
            "---  ------                --------------  ----- \n",
            " 0   checking_balance      1000 non-null   object\n",
            " 1   months_loan_duration  1000 non-null   int64 \n",
            " 2   credit_history        1000 non-null   object\n",
            " 3   purpose               1000 non-null   object\n",
            " 4   amount                1000 non-null   int64 \n",
            " 5   savings_balance       1000 non-null   object\n",
            " 6   employment_length     1000 non-null   object\n",
            " 7   installment_rate      1000 non-null   int64 \n",
            " 8   personal_status       1000 non-null   object\n",
            " 9   other_debtors         1000 non-null   object\n",
            " 10  residence_history     1000 non-null   int64 \n",
            " 11  property              1000 non-null   object\n",
            " 12  age                   1000 non-null   int64 \n",
            " 13  installment_plan      1000 non-null   object\n",
            " 14  housing               1000 non-null   object\n",
            " 15  existing_credits      1000 non-null   int64 \n",
            " 16  default               1000 non-null   int64 \n",
            " 17  dependents            1000 non-null   int64 \n",
            " 18  telephone             1000 non-null   object\n",
            " 19  foreign_worker        1000 non-null   object\n",
            " 20  job                   1000 non-null   object\n",
            "dtypes: int64(8), object(13)\n",
            "memory usage: 164.2+ KB\n"
          ]
        }
      ],
      "source": [
        "df.info()"
      ]
    },
    {
      "cell_type": "code",
      "execution_count": null,
      "id": "8970e8a4",
      "metadata": {
        "id": "8970e8a4"
      },
      "outputs": [],
      "source": [
        "num_columns=[]\n",
        "str_columns=[]\n",
        "for col in df.columns:\n",
        "    if type(df[col][0])==str:\n",
        "        str_columns.append(col)\n",
        "    else:\n",
        "        num_columns.append(col)"
      ]
    },
    {
      "cell_type": "code",
      "execution_count": null,
      "id": "9a7de6ff",
      "metadata": {
        "id": "9a7de6ff",
        "outputId": "9cde8209-6c21-40af-c8eb-91c96a91eff9"
      },
      "outputs": [
        {
          "data": {
            "text/plain": [
              "['months_loan_duration',\n",
              " 'amount',\n",
              " 'installment_rate',\n",
              " 'residence_history',\n",
              " 'age',\n",
              " 'existing_credits',\n",
              " 'default',\n",
              " 'dependents']"
            ]
          },
          "execution_count": 14,
          "metadata": {},
          "output_type": "execute_result"
        }
      ],
      "source": [
        "num_columns"
      ]
    },
    {
      "cell_type": "code",
      "execution_count": null,
      "id": "5922cdcf",
      "metadata": {
        "id": "5922cdcf",
        "outputId": "64fcb3b2-27b9-4e00-8be5-9f8c71c70ce6"
      },
      "outputs": [
        {
          "data": {
            "text/plain": [
              "'default'"
            ]
          },
          "execution_count": 28,
          "metadata": {},
          "output_type": "execute_result"
        }
      ],
      "source": [
        "num_columns.pop(-2)"
      ]
    },
    {
      "cell_type": "code",
      "execution_count": null,
      "id": "8aaa41d1",
      "metadata": {
        "id": "8aaa41d1",
        "outputId": "5a1fa26e-8a49-43a3-8707-77eb15f67373"
      },
      "outputs": [
        {
          "data": {
            "text/plain": [
              "['months_loan_duration',\n",
              " 'amount',\n",
              " 'installment_rate',\n",
              " 'residence_history',\n",
              " 'age',\n",
              " 'existing_credits',\n",
              " 'dependents']"
            ]
          },
          "execution_count": 29,
          "metadata": {},
          "output_type": "execute_result"
        }
      ],
      "source": [
        "num_columns"
      ]
    },
    {
      "cell_type": "code",
      "execution_count": null,
      "id": "115cbd62",
      "metadata": {
        "id": "115cbd62",
        "outputId": "fc1fcfa7-b5f8-463a-a6d1-295f5e23401a"
      },
      "outputs": [
        {
          "data": {
            "text/plain": [
              "['checking_balance',\n",
              " 'credit_history',\n",
              " 'purpose',\n",
              " 'savings_balance',\n",
              " 'employment_length',\n",
              " 'personal_status',\n",
              " 'other_debtors',\n",
              " 'property',\n",
              " 'installment_plan',\n",
              " 'housing',\n",
              " 'telephone',\n",
              " 'foreign_worker',\n",
              " 'job']"
            ]
          },
          "execution_count": 15,
          "metadata": {},
          "output_type": "execute_result"
        }
      ],
      "source": [
        "str_columns"
      ]
    },
    {
      "cell_type": "code",
      "execution_count": null,
      "id": "0282e1e4",
      "metadata": {
        "id": "0282e1e4"
      },
      "outputs": [],
      "source": []
    },
    {
      "cell_type": "code",
      "execution_count": null,
      "id": "a3882166",
      "metadata": {
        "id": "a3882166"
      },
      "outputs": [],
      "source": [
        "for col in df.columns:\n",
        "    if df[col].isna().any():\n",
        "        print(col)"
      ]
    },
    {
      "cell_type": "code",
      "execution_count": null,
      "id": "af7e757f",
      "metadata": {
        "id": "af7e757f",
        "outputId": "0cf88f36-b638-4a31-f255-ac1e0e042214"
      },
      "outputs": [
        {
          "data": {
            "text/plain": [
              "checking_balance        0\n",
              "months_loan_duration    0\n",
              "credit_history          0\n",
              "purpose                 0\n",
              "amount                  0\n",
              "savings_balance         0\n",
              "employment_length       0\n",
              "installment_rate        0\n",
              "personal_status         0\n",
              "other_debtors           0\n",
              "residence_history       0\n",
              "property                0\n",
              "age                     0\n",
              "installment_plan        0\n",
              "housing                 0\n",
              "existing_credits        0\n",
              "default                 0\n",
              "dependents              0\n",
              "telephone               0\n",
              "foreign_worker          0\n",
              "job                     0\n",
              "dtype: int64"
            ]
          },
          "execution_count": 17,
          "metadata": {},
          "output_type": "execute_result"
        }
      ],
      "source": [
        "df.isna().sum()"
      ]
    },
    {
      "cell_type": "code",
      "execution_count": null,
      "id": "cfb24924",
      "metadata": {
        "id": "cfb24924"
      },
      "outputs": [],
      "source": [
        "y=df['default']\n",
        "df.drop(['default'],axis=1,inplace=True)"
      ]
    },
    {
      "cell_type": "code",
      "execution_count": null,
      "id": "7a74072a",
      "metadata": {
        "id": "7a74072a",
        "outputId": "56b0925b-9f98-4b3d-8c7b-dccbf576937f"
      },
      "outputs": [
        {
          "data": {
            "text/plain": [
              "array([[<AxesSubplot:title={'center':'months_loan_duration'}>,\n",
              "        <AxesSubplot:title={'center':'amount'}>,\n",
              "        <AxesSubplot:title={'center':'installment_rate'}>],\n",
              "       [<AxesSubplot:title={'center':'residence_history'}>,\n",
              "        <AxesSubplot:title={'center':'age'}>,\n",
              "        <AxesSubplot:title={'center':'existing_credits'}>],\n",
              "       [<AxesSubplot:title={'center':'dependents'}>, <AxesSubplot:>,\n",
              "        <AxesSubplot:>]], dtype=object)"
            ]
          },
          "execution_count": 26,
          "metadata": {},
          "output_type": "execute_result"
        },
        {
          "data": {
            "image/png": "[encoded data removed]",
            "text/plain": [
              "<Figure size 1200x800 with 9 Axes>"
            ]
          },
          "metadata": {},
          "output_type": "display_data"
        }
      ],
      "source": [
        "df.hist(bins=50,figsize=(12,8))"
      ]
    },
    {
      "cell_type": "code",
      "execution_count": null,
      "id": "8e966ef8",
      "metadata": {
        "id": "8e966ef8"
      },
      "outputs": [],
      "source": [
        "from sklearn.pipeline import Pipeline\n",
        "from sklearn.preprocessing import MinMaxScaler\n",
        "num_pipeline=Pipeline([(\"scaler\", MinMaxScaler())])"
      ]
    },
    {
      "cell_type": "code",
      "execution_count": null,
      "id": "08ce7068",
      "metadata": {
        "id": "08ce7068"
      },
      "outputs": [],
      "source": [
        "from sklearn.preprocessing import OrdinalEncoder, OneHotEncoder\n",
        "cat_pipeline=Pipeline([(\"ordinal_encoder\", OrdinalEncoder()),\n",
        "                      (\"cat_encoder\", OneHotEncoder()),\n",
        "                      ])"
      ]
    },
    {
      "cell_type": "code",
      "execution_count": null,
      "id": "a39ae102",
      "metadata": {
        "id": "a39ae102"
      },
      "outputs": [],
      "source": [
        "from sklearn.compose import ColumnTransformer\n",
        "preprocess_pipeline=ColumnTransformer([(\"num\",num_pipeline,num_columns),(\"cat\", cat_pipeline, str_columns)])"
      ]
    },
    {
      "cell_type": "code",
      "execution_count": null,
      "id": "701eaf25",
      "metadata": {
        "id": "701eaf25",
        "outputId": "3145a663-2db2-421d-c525-12a5e2de5663"
      },
      "outputs": [
        {
          "data": {
            "text/plain": [
              "array([[0.02941176, 0.05056674, 1.        , ..., 1.        , 0.        ,\n",
              "        0.        ],\n",
              "       [0.64705882, 0.31368989, 0.33333333, ..., 1.        , 0.        ,\n",
              "        0.        ],\n",
              "       [0.11764706, 0.10157368, 0.33333333, ..., 0.        , 0.        ,\n",
              "        1.        ],\n",
              "       ...,\n",
              "       [0.11764706, 0.03048311, 1.        , ..., 1.        , 0.        ,\n",
              "        0.        ],\n",
              "       [0.60294118, 0.08776274, 1.        , ..., 1.        , 0.        ,\n",
              "        0.        ],\n",
              "       [0.60294118, 0.23803235, 0.66666667, ..., 1.        , 0.        ,\n",
              "        0.        ]])"
            ]
          },
          "execution_count": 33,
          "metadata": {},
          "output_type": "execute_result"
        }
      ],
      "source": [
        "X_train=preprocess_pipeline.fit_transform(df)\n",
        "X_train"
      ]
    },
    {
      "cell_type": "code",
      "execution_count": null,
      "id": "37fb2615",
      "metadata": {
        "id": "37fb2615"
      },
      "outputs": [],
      "source": [
        "from sklearn.model_selection import train_test_split,cross_val_score\n",
        "X_train1,X_test1,Y_train1,Y_test1=train_test_split(X_train,y_train,stratify=y_train,test_size=0.2,random_state=False)\n"
      ]
    },
    {
      "cell_type": "code",
      "execution_count": null,
      "id": "0044a0a6",
      "metadata": {
        "id": "0044a0a6",
        "outputId": "6a625a8a-a1aa-42e0-a06c-47b1de13fc21"
      },
      "outputs": [
        {
          "data": {
            "text/plain": [
              "RandomForestClassifier(random_state=42)"
            ]
          },
          "execution_count": 36,
          "metadata": {},
          "output_type": "execute_result"
        }
      ],
      "source": [
        "y_train=y\n",
        "from sklearn.ensemble import RandomForestClassifier\n",
        "forest_clf=RandomForestClassifier(n_estimators=100,random_state=42)\n",
        "forest_clf.fit(X_train1,Y_train1)"
      ]
    },
    {
      "cell_type": "code",
      "execution_count": null,
      "id": "6077ca62",
      "metadata": {
        "id": "6077ca62",
        "outputId": "338e46fd-5203-41e8-d38b-da2a0fcd2420"
      },
      "outputs": [
        {
          "data": {
            "text/plain": [
              "0.77625"
            ]
          },
          "execution_count": 38,
          "metadata": {},
          "output_type": "execute_result"
        }
      ],
      "source": [
        "forest_scores = cross_val_score(forest_clf, X_train1, Y_train1, cv=10)\n",
        "forest_scores.mean()"
      ]
    },
    {
      "cell_type": "code",
      "execution_count": null,
      "id": "84342c2b",
      "metadata": {
        "id": "84342c2b",
        "outputId": "80e41ecf-5aae-4eb6-996d-19fcab8bd1b5"
      },
      "outputs": [
        {
          "data": {
            "text/plain": [
              "0.7112499999999999"
            ]
          },
          "execution_count": 40,
          "metadata": {},
          "output_type": "execute_result"
        }
      ],
      "source": [
        "from sklearn.svm import SVC\n",
        "svm_clf=SVC(gamma=\"auto\")\n",
        "svm_scores=cross_val_score(svm_clf,X_train1,Y_train1,cv=10)\n",
        "svm_scores.mean()"
      ]
    },
    {
      "cell_type": "code",
      "execution_count": null,
      "id": "f2510d27",
      "metadata": {
        "id": "f2510d27",
        "outputId": "2169eacd-783d-4259-a3d4-9dae9f633f56"
      },
      "outputs": [
        {
          "name": "stderr",
          "output_type": "stream",
          "text": [
            "C:\\Users\\Sarthak\\anaconda\\lib\\site-packages\\sklearn\\neighbors\\_classification.py:228: FutureWarning: Unlike other reduction functions (e.g. `skew`, `kurtosis`), the default behavior of `mode` typically preserves the axis it acts along. In SciPy 1.11.0, this behavior will change: the default value of `keepdims` will become False, the `axis` over which the statistic is taken will be eliminated, and the value None will no longer be accepted. Set `keepdims` to True or False to avoid this warning.\n",
            "  mode, _ = stats.mode(_y[neigh_ind, k], axis=1)\n",
            "C:\\Users\\Sarthak\\anaconda\\lib\\site-packages\\sklearn\\neighbors\\_classification.py:228: FutureWarning: Unlike other reduction functions (e.g. `skew`, `kurtosis`), the default behavior of `mode` typically preserves the axis it acts along. In SciPy 1.11.0, this behavior will change: the default value of `keepdims` will become False, the `axis` over which the statistic is taken will be eliminated, and the value None will no longer be accepted. Set `keepdims` to True or False to avoid this warning.\n",
            "  mode, _ = stats.mode(_y[neigh_ind, k], axis=1)\n",
            "C:\\Users\\Sarthak\\anaconda\\lib\\site-packages\\sklearn\\neighbors\\_classification.py:228: FutureWarning: Unlike other reduction functions (e.g. `skew`, `kurtosis`), the default behavior of `mode` typically preserves the axis it acts along. In SciPy 1.11.0, this behavior will change: the default value of `keepdims` will become False, the `axis` over which the statistic is taken will be eliminated, and the value None will no longer be accepted. Set `keepdims` to True or False to avoid this warning.\n",
            "  mode, _ = stats.mode(_y[neigh_ind, k], axis=1)\n",
            "C:\\Users\\Sarthak\\anaconda\\lib\\site-packages\\sklearn\\neighbors\\_classification.py:228: FutureWarning: Unlike other reduction functions (e.g. `skew`, `kurtosis`), the default behavior of `mode` typically preserves the axis it acts along. In SciPy 1.11.0, this behavior will change: the default value of `keepdims` will become False, the `axis` over which the statistic is taken will be eliminated, and the value None will no longer be accepted. Set `keepdims` to True or False to avoid this warning.\n",
            "  mode, _ = stats.mode(_y[neigh_ind, k], axis=1)\n",
            "C:\\Users\\Sarthak\\anaconda\\lib\\site-packages\\sklearn\\neighbors\\_classification.py:228: FutureWarning: Unlike other reduction functions (e.g. `skew`, `kurtosis`), the default behavior of `mode` typically preserves the axis it acts along. In SciPy 1.11.0, this behavior will change: the default value of `keepdims` will become False, the `axis` over which the statistic is taken will be eliminated, and the value None will no longer be accepted. Set `keepdims` to True or False to avoid this warning.\n",
            "  mode, _ = stats.mode(_y[neigh_ind, k], axis=1)\n",
            "C:\\Users\\Sarthak\\anaconda\\lib\\site-packages\\sklearn\\neighbors\\_classification.py:228: FutureWarning: Unlike other reduction functions (e.g. `skew`, `kurtosis`), the default behavior of `mode` typically preserves the axis it acts along. In SciPy 1.11.0, this behavior will change: the default value of `keepdims` will become False, the `axis` over which the statistic is taken will be eliminated, and the value None will no longer be accepted. Set `keepdims` to True or False to avoid this warning.\n",
            "  mode, _ = stats.mode(_y[neigh_ind, k], axis=1)\n",
            "C:\\Users\\Sarthak\\anaconda\\lib\\site-packages\\sklearn\\neighbors\\_classification.py:228: FutureWarning: Unlike other reduction functions (e.g. `skew`, `kurtosis`), the default behavior of `mode` typically preserves the axis it acts along. In SciPy 1.11.0, this behavior will change: the default value of `keepdims` will become False, the `axis` over which the statistic is taken will be eliminated, and the value None will no longer be accepted. Set `keepdims` to True or False to avoid this warning.\n",
            "  mode, _ = stats.mode(_y[neigh_ind, k], axis=1)\n",
            "C:\\Users\\Sarthak\\anaconda\\lib\\site-packages\\sklearn\\neighbors\\_classification.py:228: FutureWarning: Unlike other reduction functions (e.g. `skew`, `kurtosis`), the default behavior of `mode` typically preserves the axis it acts along. In SciPy 1.11.0, this behavior will change: the default value of `keepdims` will become False, the `axis` over which the statistic is taken will be eliminated, and the value None will no longer be accepted. Set `keepdims` to True or False to avoid this warning.\n",
            "  mode, _ = stats.mode(_y[neigh_ind, k], axis=1)\n",
            "C:\\Users\\Sarthak\\anaconda\\lib\\site-packages\\sklearn\\neighbors\\_classification.py:228: FutureWarning: Unlike other reduction functions (e.g. `skew`, `kurtosis`), the default behavior of `mode` typically preserves the axis it acts along. In SciPy 1.11.0, this behavior will change: the default value of `keepdims` will become False, the `axis` over which the statistic is taken will be eliminated, and the value None will no longer be accepted. Set `keepdims` to True or False to avoid this warning.\n",
            "  mode, _ = stats.mode(_y[neigh_ind, k], axis=1)\n",
            "C:\\Users\\Sarthak\\anaconda\\lib\\site-packages\\sklearn\\neighbors\\_classification.py:228: FutureWarning: Unlike other reduction functions (e.g. `skew`, `kurtosis`), the default behavior of `mode` typically preserves the axis it acts along. In SciPy 1.11.0, this behavior will change: the default value of `keepdims` will become False, the `axis` over which the statistic is taken will be eliminated, and the value None will no longer be accepted. Set `keepdims` to True or False to avoid this warning.\n",
            "  mode, _ = stats.mode(_y[neigh_ind, k], axis=1)\n",
            "C:\\Users\\Sarthak\\anaconda\\lib\\site-packages\\sklearn\\neighbors\\_classification.py:228: FutureWarning: Unlike other reduction functions (e.g. `skew`, `kurtosis`), the default behavior of `mode` typically preserves the axis it acts along. In SciPy 1.11.0, this behavior will change: the default value of `keepdims` will become False, the `axis` over which the statistic is taken will be eliminated, and the value None will no longer be accepted. Set `keepdims` to True or False to avoid this warning.\n",
            "  mode, _ = stats.mode(_y[neigh_ind, k], axis=1)\n",
            "C:\\Users\\Sarthak\\anaconda\\lib\\site-packages\\sklearn\\neighbors\\_classification.py:228: FutureWarning: Unlike other reduction functions (e.g. `skew`, `kurtosis`), the default behavior of `mode` typically preserves the axis it acts along. In SciPy 1.11.0, this behavior will change: the default value of `keepdims` will become False, the `axis` over which the statistic is taken will be eliminated, and the value None will no longer be accepted. Set `keepdims` to True or False to avoid this warning.\n",
            "  mode, _ = stats.mode(_y[neigh_ind, k], axis=1)\n",
            "C:\\Users\\Sarthak\\anaconda\\lib\\site-packages\\sklearn\\neighbors\\_classification.py:228: FutureWarning: Unlike other reduction functions (e.g. `skew`, `kurtosis`), the default behavior of `mode` typically preserves the axis it acts along. In SciPy 1.11.0, this behavior will change: the default value of `keepdims` will become False, the `axis` over which the statistic is taken will be eliminated, and the value None will no longer be accepted. Set `keepdims` to True or False to avoid this warning.\n",
            "  mode, _ = stats.mode(_y[neigh_ind, k], axis=1)\n",
            "C:\\Users\\Sarthak\\anaconda\\lib\\site-packages\\sklearn\\neighbors\\_classification.py:228: FutureWarning: Unlike other reduction functions (e.g. `skew`, `kurtosis`), the default behavior of `mode` typically preserves the axis it acts along. In SciPy 1.11.0, this behavior will change: the default value of `keepdims` will become False, the `axis` over which the statistic is taken will be eliminated, and the value None will no longer be accepted. Set `keepdims` to True or False to avoid this warning.\n",
            "  mode, _ = stats.mode(_y[neigh_ind, k], axis=1)\n",
            "C:\\Users\\Sarthak\\anaconda\\lib\\site-packages\\sklearn\\neighbors\\_classification.py:228: FutureWarning: Unlike other reduction functions (e.g. `skew`, `kurtosis`), the default behavior of `mode` typically preserves the axis it acts along. In SciPy 1.11.0, this behavior will change: the default value of `keepdims` will become False, the `axis` over which the statistic is taken will be eliminated, and the value None will no longer be accepted. Set `keepdims` to True or False to avoid this warning.\n",
            "  mode, _ = stats.mode(_y[neigh_ind, k], axis=1)\n",
            "C:\\Users\\Sarthak\\anaconda\\lib\\site-packages\\sklearn\\neighbors\\_classification.py:228: FutureWarning: Unlike other reduction functions (e.g. `skew`, `kurtosis`), the default behavior of `mode` typically preserves the axis it acts along. In SciPy 1.11.0, this behavior will change: the default value of `keepdims` will become False, the `axis` over which the statistic is taken will be eliminated, and the value None will no longer be accepted. Set `keepdims` to True or False to avoid this warning.\n",
            "  mode, _ = stats.mode(_y[neigh_ind, k], axis=1)\n",
            "C:\\Users\\Sarthak\\anaconda\\lib\\site-packages\\sklearn\\neighbors\\_classification.py:228: FutureWarning: Unlike other reduction functions (e.g. `skew`, `kurtosis`), the default behavior of `mode` typically preserves the axis it acts along. In SciPy 1.11.0, this behavior will change: the default value of `keepdims` will become False, the `axis` over which the statistic is taken will be eliminated, and the value None will no longer be accepted. Set `keepdims` to True or False to avoid this warning.\n",
            "  mode, _ = stats.mode(_y[neigh_ind, k], axis=1)\n",
            "C:\\Users\\Sarthak\\anaconda\\lib\\site-packages\\sklearn\\neighbors\\_classification.py:228: FutureWarning: Unlike other reduction functions (e.g. `skew`, `kurtosis`), the default behavior of `mode` typically preserves the axis it acts along. In SciPy 1.11.0, this behavior will change: the default value of `keepdims` will become False, the `axis` over which the statistic is taken will be eliminated, and the value None will no longer be accepted. Set `keepdims` to True or False to avoid this warning.\n",
            "  mode, _ = stats.mode(_y[neigh_ind, k], axis=1)\n",
            "C:\\Users\\Sarthak\\anaconda\\lib\\site-packages\\sklearn\\neighbors\\_classification.py:228: FutureWarning: Unlike other reduction functions (e.g. `skew`, `kurtosis`), the default behavior of `mode` typically preserves the axis it acts along. In SciPy 1.11.0, this behavior will change: the default value of `keepdims` will become False, the `axis` over which the statistic is taken will be eliminated, and the value None will no longer be accepted. Set `keepdims` to True or False to avoid this warning.\n",
            "  mode, _ = stats.mode(_y[neigh_ind, k], axis=1)\n",
            "C:\\Users\\Sarthak\\anaconda\\lib\\site-packages\\sklearn\\neighbors\\_classification.py:228: FutureWarning: Unlike other reduction functions (e.g. `skew`, `kurtosis`), the default behavior of `mode` typically preserves the axis it acts along. In SciPy 1.11.0, this behavior will change: the default value of `keepdims` will become False, the `axis` over which the statistic is taken will be eliminated, and the value None will no longer be accepted. Set `keepdims` to True or False to avoid this warning.\n",
            "  mode, _ = stats.mode(_y[neigh_ind, k], axis=1)\n"
          ]
        },
        {
          "data": {
            "text/plain": [
              "GridSearchCV(cv=5, estimator=KNeighborsClassifier(),\n",
              "             param_grid=[{'n_neighbors': [3, 4, 5, 6],\n",
              "                          'weights': ['uniform', 'distance']}])"
            ]
          },
          "execution_count": 41,
          "metadata": {},
          "output_type": "execute_result"
        }
      ],
      "source": [
        "from sklearn.neighbors import KNeighborsClassifier\n",
        "from sklearn.model_selection import GridSearchCV\n",
        "\n",
        "param_grid = [{'weights': [\"uniform\", \"distance\"], 'n_neighbors': [3, 4, 5, 6]}]\n",
        "\n",
        "knn_clf = KNeighborsClassifier()\n",
        "grid_search = GridSearchCV(knn_clf, param_grid, cv=5)\n",
        "grid_search.fit(X_train, y_train)"
      ]
    },
    {
      "cell_type": "code",
      "execution_count": null,
      "id": "63ed2942",
      "metadata": {
        "id": "63ed2942",
        "outputId": "428541ac-cc0a-4a62-eeec-d14696d6bd30"
      },
      "outputs": [
        {
          "data": {
            "text/plain": [
              "{'n_neighbors': 4, 'weights': 'distance'}"
            ]
          },
          "execution_count": 42,
          "metadata": {},
          "output_type": "execute_result"
        }
      ],
      "source": [
        "grid_search.best_params_"
      ]
    },
    {
      "cell_type": "code",
      "execution_count": null,
      "id": "7addd5dc",
      "metadata": {
        "id": "7addd5dc",
        "outputId": "91113dce-7df3-4bda-9d40-3c5095b7cf20"
      },
      "outputs": [
        {
          "data": {
            "text/plain": [
              "0.731"
            ]
          },
          "execution_count": 43,
          "metadata": {},
          "output_type": "execute_result"
        }
      ],
      "source": [
        "grid_search.best_score_"
      ]
    },
    {
      "cell_type": "code",
      "execution_count": null,
      "id": "432765f6",
      "metadata": {
        "id": "432765f6"
      },
      "outputs": [],
      "source": []
    },
    {
      "cell_type": "code",
      "execution_count": null,
      "id": "3a86ed01",
      "metadata": {
        "id": "3a86ed01",
        "outputId": "517af697-cc98-4e7c-fee5-fd6b03ade118"
      },
      "outputs": [
        {
          "data": {
            "image/png": "[encoded data removed]",
            "text/plain": [
              "<Figure size 800x400 with 1 Axes>"
            ]
          },
          "metadata": {},
          "output_type": "display_data"
        }
      ],
      "source": [
        "import matplotlib.pyplot as plt\n",
        "plt.figure(figsize=(8,4))\n",
        "plt.plot([1]*10, svm_scores, \".\")\n",
        "plt.plot([2]*10, forest_scores, \".\")\n",
        "plt.plot([3]*10, forest_scores, \".\")\n",
        "plt.boxplot([svm_scores, forest_scores], labels=(\"SVM\", \"Random Forest\"))\n",
        "plt.ylabel(\"Accuracy\")\n",
        "plt.show()"
      ]
    },
    {
      "cell_type": "code",
      "execution_count": null,
      "id": "c048dea5",
      "metadata": {
        "id": "c048dea5"
      },
      "outputs": [],
      "source": []
    }
  ],
  "metadata": {
    "kernelspec": {
      "display_name": "Python 3 (ipykernel)",
      "language": "python",
      "name": "python3"
    },
    "language_info": {
      "codemirror_mode": {
        "name": "ipython",
        "version": 3
      },
      "file_extension": ".py",
      "mimetype": "text/x-python",
      "name": "python",
      "nbconvert_exporter": "python",
      "pygments_lexer": "ipython3",
      "version": "3.9.13"
    },
    "colab": {
      "provenance": [],
      "include_colab_link": true
    }
  },
  "nbformat": 4,
  "nbformat_minor": 5
}